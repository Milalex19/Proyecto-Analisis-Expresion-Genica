{
 "cells": [
  {
   "cell_type": "code",
   "execution_count": 1,
   "metadata": {},
   "outputs": [],
   "source": [
    "import pandas as pd\n",
    "from sklearn.linear_model import LogisticRegression\n",
    "from sklearn.model_selection import train_test_split\n",
    "from sklearn.preprocessing import StandardScaler\n",
    "from sklearn.metrics import accuracy_score, classification_report\n",
    "import matplotlib.pyplot as plt\n",
    "import seaborn as sns\n",
    "from sklearn.metrics import confusion_matrix"
   ]
  },
  {
   "cell_type": "markdown",
   "metadata": {},
   "source": [
    "#### Se realiza la carga de los datos procesados."
   ]
  },
  {
   "cell_type": "code",
   "execution_count": 2,
   "metadata": {},
   "outputs": [],
   "source": [
    "filtro_normal_PT = pd.read_csv('Datasets\\filtro_normal_PT.csv')\n",
    "top_geneScore = pd.read_csv('Datasets\\top_geneScore.csv')\n",
    "top_genes = pd.read_csv('Datasets\\top_genes.csv')"
   ]
  },
  {
   "cell_type": "code",
   "execution_count": 3,
   "metadata": {},
   "outputs": [
    {
     "data": {
      "text/html": [
       "<div>\n",
       "<style scoped>\n",
       "    .dataframe tbody tr th:only-of-type {\n",
       "        vertical-align: middle;\n",
       "    }\n",
       "\n",
       "    .dataframe tbody tr th {\n",
       "        vertical-align: top;\n",
       "    }\n",
       "\n",
       "    .dataframe thead th {\n",
       "        text-align: right;\n",
       "    }\n",
       "</style>\n",
       "<table border=\"1\" class=\"dataframe\">\n",
       "  <thead>\n",
       "    <tr style=\"text-align: right;\">\n",
       "      <th></th>\n",
       "      <th>sample_type</th>\n",
       "      <th>ENSG00000000003</th>\n",
       "      <th>ENSG00000000419</th>\n",
       "      <th>ENSG00000000457</th>\n",
       "      <th>ENSG00000000460</th>\n",
       "      <th>ENSG00000000938</th>\n",
       "      <th>ENSG00000000971</th>\n",
       "      <th>ENSG00000001036</th>\n",
       "      <th>ENSG00000001084</th>\n",
       "      <th>ENSG00000001167</th>\n",
       "      <th>...</th>\n",
       "      <th>ENSG00000284024</th>\n",
       "      <th>ENSG00000284976</th>\n",
       "      <th>ENSG00000285410</th>\n",
       "      <th>ENSG00000285756</th>\n",
       "      <th>ENSG00000285967</th>\n",
       "      <th>ENSG00000286208</th>\n",
       "      <th>ENSG00000286379</th>\n",
       "      <th>ENSG00000286388</th>\n",
       "      <th>ENSG00000286451</th>\n",
       "      <th>ENSG00000288066</th>\n",
       "    </tr>\n",
       "  </thead>\n",
       "  <tbody>\n",
       "    <tr>\n",
       "      <th>0</th>\n",
       "      <td>Solid Tissue Normal</td>\n",
       "      <td>4209</td>\n",
       "      <td>1611</td>\n",
       "      <td>1217</td>\n",
       "      <td>346</td>\n",
       "      <td>787</td>\n",
       "      <td>5013</td>\n",
       "      <td>1691</td>\n",
       "      <td>2067</td>\n",
       "      <td>2148</td>\n",
       "      <td>...</td>\n",
       "      <td>940</td>\n",
       "      <td>681</td>\n",
       "      <td>1050</td>\n",
       "      <td>568</td>\n",
       "      <td>746</td>\n",
       "      <td>332</td>\n",
       "      <td>341</td>\n",
       "      <td>278</td>\n",
       "      <td>718</td>\n",
       "      <td>605</td>\n",
       "    </tr>\n",
       "    <tr>\n",
       "      <th>1</th>\n",
       "      <td>Solid Tissue Normal</td>\n",
       "      <td>2761</td>\n",
       "      <td>1178</td>\n",
       "      <td>611</td>\n",
       "      <td>165</td>\n",
       "      <td>651</td>\n",
       "      <td>5745</td>\n",
       "      <td>1205</td>\n",
       "      <td>2415</td>\n",
       "      <td>1170</td>\n",
       "      <td>...</td>\n",
       "      <td>641</td>\n",
       "      <td>304</td>\n",
       "      <td>704</td>\n",
       "      <td>317</td>\n",
       "      <td>726</td>\n",
       "      <td>6</td>\n",
       "      <td>266</td>\n",
       "      <td>317</td>\n",
       "      <td>216</td>\n",
       "      <td>570</td>\n",
       "    </tr>\n",
       "    <tr>\n",
       "      <th>2</th>\n",
       "      <td>Solid Tissue Normal</td>\n",
       "      <td>6679</td>\n",
       "      <td>2240</td>\n",
       "      <td>1980</td>\n",
       "      <td>458</td>\n",
       "      <td>442</td>\n",
       "      <td>1982</td>\n",
       "      <td>1577</td>\n",
       "      <td>2296</td>\n",
       "      <td>2405</td>\n",
       "      <td>...</td>\n",
       "      <td>1305</td>\n",
       "      <td>848</td>\n",
       "      <td>1454</td>\n",
       "      <td>1034</td>\n",
       "      <td>763</td>\n",
       "      <td>169</td>\n",
       "      <td>198</td>\n",
       "      <td>317</td>\n",
       "      <td>859</td>\n",
       "      <td>867</td>\n",
       "    </tr>\n",
       "    <tr>\n",
       "      <th>3</th>\n",
       "      <td>Solid Tissue Normal</td>\n",
       "      <td>3541</td>\n",
       "      <td>1353</td>\n",
       "      <td>947</td>\n",
       "      <td>259</td>\n",
       "      <td>936</td>\n",
       "      <td>7470</td>\n",
       "      <td>2097</td>\n",
       "      <td>2511</td>\n",
       "      <td>1840</td>\n",
       "      <td>...</td>\n",
       "      <td>884</td>\n",
       "      <td>645</td>\n",
       "      <td>1018</td>\n",
       "      <td>422</td>\n",
       "      <td>1104</td>\n",
       "      <td>15</td>\n",
       "      <td>377</td>\n",
       "      <td>378</td>\n",
       "      <td>237</td>\n",
       "      <td>600</td>\n",
       "    </tr>\n",
       "    <tr>\n",
       "      <th>4</th>\n",
       "      <td>Solid Tissue Normal</td>\n",
       "      <td>2746</td>\n",
       "      <td>1047</td>\n",
       "      <td>335</td>\n",
       "      <td>81</td>\n",
       "      <td>692</td>\n",
       "      <td>4576</td>\n",
       "      <td>1726</td>\n",
       "      <td>1768</td>\n",
       "      <td>729</td>\n",
       "      <td>...</td>\n",
       "      <td>420</td>\n",
       "      <td>336</td>\n",
       "      <td>713</td>\n",
       "      <td>58</td>\n",
       "      <td>534</td>\n",
       "      <td>0</td>\n",
       "      <td>6</td>\n",
       "      <td>132</td>\n",
       "      <td>2</td>\n",
       "      <td>660</td>\n",
       "    </tr>\n",
       "  </tbody>\n",
       "</table>\n",
       "<p>5 rows × 11341 columns</p>\n",
       "</div>"
      ],
      "text/plain": [
       "           sample_type  ENSG00000000003  ENSG00000000419  ENSG00000000457   \n",
       "0  Solid Tissue Normal             4209             1611             1217  \\\n",
       "1  Solid Tissue Normal             2761             1178              611   \n",
       "2  Solid Tissue Normal             6679             2240             1980   \n",
       "3  Solid Tissue Normal             3541             1353              947   \n",
       "4  Solid Tissue Normal             2746             1047              335   \n",
       "\n",
       "   ENSG00000000460  ENSG00000000938  ENSG00000000971  ENSG00000001036   \n",
       "0              346              787             5013             1691  \\\n",
       "1              165              651             5745             1205   \n",
       "2              458              442             1982             1577   \n",
       "3              259              936             7470             2097   \n",
       "4               81              692             4576             1726   \n",
       "\n",
       "   ENSG00000001084  ENSG00000001167  ...  ENSG00000284024  ENSG00000284976   \n",
       "0             2067             2148  ...              940              681  \\\n",
       "1             2415             1170  ...              641              304   \n",
       "2             2296             2405  ...             1305              848   \n",
       "3             2511             1840  ...              884              645   \n",
       "4             1768              729  ...              420              336   \n",
       "\n",
       "   ENSG00000285410  ENSG00000285756  ENSG00000285967  ENSG00000286208   \n",
       "0             1050              568              746              332  \\\n",
       "1              704              317              726                6   \n",
       "2             1454             1034              763              169   \n",
       "3             1018              422             1104               15   \n",
       "4              713               58              534                0   \n",
       "\n",
       "   ENSG00000286379  ENSG00000286388  ENSG00000286451  ENSG00000288066  \n",
       "0              341              278              718              605  \n",
       "1              266              317              216              570  \n",
       "2              198              317              859              867  \n",
       "3              377              378              237              600  \n",
       "4                6              132                2              660  \n",
       "\n",
       "[5 rows x 11341 columns]"
      ]
     },
     "execution_count": 3,
     "metadata": {},
     "output_type": "execute_result"
    }
   ],
   "source": [
    "filtro_normal_PT.head()"
   ]
  },
  {
   "cell_type": "code",
   "execution_count": 4,
   "metadata": {},
   "outputs": [
    {
     "data": {
      "text/html": [
       "<div>\n",
       "<style scoped>\n",
       "    .dataframe tbody tr th:only-of-type {\n",
       "        vertical-align: middle;\n",
       "    }\n",
       "\n",
       "    .dataframe tbody tr th {\n",
       "        vertical-align: top;\n",
       "    }\n",
       "\n",
       "    .dataframe thead th {\n",
       "        text-align: right;\n",
       "    }\n",
       "</style>\n",
       "<table border=\"1\" class=\"dataframe\">\n",
       "  <thead>\n",
       "    <tr style=\"text-align: right;\">\n",
       "      <th></th>\n",
       "      <th>HGNC.symbol</th>\n",
       "      <th>Count</th>\n",
       "      <th>Ensembl.ID</th>\n",
       "    </tr>\n",
       "  </thead>\n",
       "  <tbody>\n",
       "    <tr>\n",
       "      <th>0</th>\n",
       "      <td>TP53</td>\n",
       "      <td>279.0</td>\n",
       "      <td>ENSG00000141510</td>\n",
       "    </tr>\n",
       "    <tr>\n",
       "      <th>1</th>\n",
       "      <td>EP300</td>\n",
       "      <td>250.0</td>\n",
       "      <td>ENSG00000100393</td>\n",
       "    </tr>\n",
       "    <tr>\n",
       "      <th>2</th>\n",
       "      <td>CREBBP</td>\n",
       "      <td>248.0</td>\n",
       "      <td>ENSG00000005339</td>\n",
       "    </tr>\n",
       "    <tr>\n",
       "      <th>3</th>\n",
       "      <td>YWHAG</td>\n",
       "      <td>237.0</td>\n",
       "      <td>ENSG00000170027</td>\n",
       "    </tr>\n",
       "    <tr>\n",
       "      <th>4</th>\n",
       "      <td>SMAD3</td>\n",
       "      <td>210.0</td>\n",
       "      <td>ENSG00000166949</td>\n",
       "    </tr>\n",
       "  </tbody>\n",
       "</table>\n",
       "</div>"
      ],
      "text/plain": [
       "  HGNC.symbol  Count       Ensembl.ID\n",
       "0        TP53  279.0  ENSG00000141510\n",
       "1       EP300  250.0  ENSG00000100393\n",
       "2      CREBBP  248.0  ENSG00000005339\n",
       "3       YWHAG  237.0  ENSG00000170027\n",
       "4       SMAD3  210.0  ENSG00000166949"
      ]
     },
     "execution_count": 4,
     "metadata": {},
     "output_type": "execute_result"
    }
   ],
   "source": [
    "top_genes.head()"
   ]
  },
  {
   "cell_type": "code",
   "execution_count": 5,
   "metadata": {},
   "outputs": [
    {
     "data": {
      "text/html": [
       "<div>\n",
       "<style scoped>\n",
       "    .dataframe tbody tr th:only-of-type {\n",
       "        vertical-align: middle;\n",
       "    }\n",
       "\n",
       "    .dataframe tbody tr th {\n",
       "        vertical-align: top;\n",
       "    }\n",
       "\n",
       "    .dataframe thead th {\n",
       "        text-align: right;\n",
       "    }\n",
       "</style>\n",
       "<table border=\"1\" class=\"dataframe\">\n",
       "  <thead>\n",
       "    <tr style=\"text-align: right;\">\n",
       "      <th></th>\n",
       "      <th>features</th>\n",
       "      <th>score</th>\n",
       "    </tr>\n",
       "  </thead>\n",
       "  <tbody>\n",
       "    <tr>\n",
       "      <th>0</th>\n",
       "      <td>ENSG00000182492</td>\n",
       "      <td>0.088798</td>\n",
       "    </tr>\n",
       "    <tr>\n",
       "      <th>1</th>\n",
       "      <td>ENSG00000124813</td>\n",
       "      <td>0.065574</td>\n",
       "    </tr>\n",
       "    <tr>\n",
       "      <th>2</th>\n",
       "      <td>ENSG00000164220</td>\n",
       "      <td>0.042350</td>\n",
       "    </tr>\n",
       "    <tr>\n",
       "      <th>3</th>\n",
       "      <td>ENSG00000175324</td>\n",
       "      <td>0.035519</td>\n",
       "    </tr>\n",
       "    <tr>\n",
       "      <th>4</th>\n",
       "      <td>ENSG00000103710</td>\n",
       "      <td>0.032787</td>\n",
       "    </tr>\n",
       "  </tbody>\n",
       "</table>\n",
       "</div>"
      ],
      "text/plain": [
       "          features     score\n",
       "0  ENSG00000182492  0.088798\n",
       "1  ENSG00000124813  0.065574\n",
       "2  ENSG00000164220  0.042350\n",
       "3  ENSG00000175324  0.035519\n",
       "4  ENSG00000103710  0.032787"
      ]
     },
     "execution_count": 5,
     "metadata": {},
     "output_type": "execute_result"
    }
   ],
   "source": [
    "top_geneScore.head()"
   ]
  },
  {
   "cell_type": "markdown",
   "metadata": {},
   "source": [
    "#### Comenzamos con la creación del modelo de Regresión Logística utilizando los 100 genes como predictores obtenidos de la 'RED_PPI'."
   ]
  },
  {
   "cell_type": "code",
   "execution_count": 7,
   "metadata": {},
   "outputs": [],
   "source": [
    "# Obtener los nombres de los 100 genes con mayor conexión obtenidos de la RED_PPI\n",
    "top_100_genes = top_genes['Ensembl.ID']\n",
    "\n",
    "# Seleccionar las variables predictoras y la variable objetivo\n",
    "X = filtro_normal_PT[top_100_genes.tolist()]\n",
    "y = filtro_normal_PT['sample_type']\n",
    "\n",
    "# Dividir los datos en conjuntos de entrenamiento y prueba\n",
    "X_train, X_test, y_train, y_test = train_test_split(X, y, test_size=0.2, random_state=42)\n",
    "\n",
    "# Estandarizar las características\n",
    "scaler = StandardScaler()\n",
    "X_train_scaled = scaler.fit_transform(X_train)\n",
    "X_test_scaled = scaler.transform(X_test)\n",
    "\n",
    "# Definir el modelo de regresión logística\n",
    "logreg_model = LogisticRegression(C=0.1, random_state=42)"
   ]
  },
  {
   "cell_type": "code",
   "execution_count": 8,
   "metadata": {},
   "outputs": [
    {
     "data": {
      "text/html": [
       "<style>#sk-container-id-1 {color: black;background-color: white;}#sk-container-id-1 pre{padding: 0;}#sk-container-id-1 div.sk-toggleable {background-color: white;}#sk-container-id-1 label.sk-toggleable__label {cursor: pointer;display: block;width: 100%;margin-bottom: 0;padding: 0.3em;box-sizing: border-box;text-align: center;}#sk-container-id-1 label.sk-toggleable__label-arrow:before {content: \"▸\";float: left;margin-right: 0.25em;color: #696969;}#sk-container-id-1 label.sk-toggleable__label-arrow:hover:before {color: black;}#sk-container-id-1 div.sk-estimator:hover label.sk-toggleable__label-arrow:before {color: black;}#sk-container-id-1 div.sk-toggleable__content {max-height: 0;max-width: 0;overflow: hidden;text-align: left;background-color: #f0f8ff;}#sk-container-id-1 div.sk-toggleable__content pre {margin: 0.2em;color: black;border-radius: 0.25em;background-color: #f0f8ff;}#sk-container-id-1 input.sk-toggleable__control:checked~div.sk-toggleable__content {max-height: 200px;max-width: 100%;overflow: auto;}#sk-container-id-1 input.sk-toggleable__control:checked~label.sk-toggleable__label-arrow:before {content: \"▾\";}#sk-container-id-1 div.sk-estimator input.sk-toggleable__control:checked~label.sk-toggleable__label {background-color: #d4ebff;}#sk-container-id-1 div.sk-label input.sk-toggleable__control:checked~label.sk-toggleable__label {background-color: #d4ebff;}#sk-container-id-1 input.sk-hidden--visually {border: 0;clip: rect(1px 1px 1px 1px);clip: rect(1px, 1px, 1px, 1px);height: 1px;margin: -1px;overflow: hidden;padding: 0;position: absolute;width: 1px;}#sk-container-id-1 div.sk-estimator {font-family: monospace;background-color: #f0f8ff;border: 1px dotted black;border-radius: 0.25em;box-sizing: border-box;margin-bottom: 0.5em;}#sk-container-id-1 div.sk-estimator:hover {background-color: #d4ebff;}#sk-container-id-1 div.sk-parallel-item::after {content: \"\";width: 100%;border-bottom: 1px solid gray;flex-grow: 1;}#sk-container-id-1 div.sk-label:hover label.sk-toggleable__label {background-color: #d4ebff;}#sk-container-id-1 div.sk-serial::before {content: \"\";position: absolute;border-left: 1px solid gray;box-sizing: border-box;top: 0;bottom: 0;left: 50%;z-index: 0;}#sk-container-id-1 div.sk-serial {display: flex;flex-direction: column;align-items: center;background-color: white;padding-right: 0.2em;padding-left: 0.2em;position: relative;}#sk-container-id-1 div.sk-item {position: relative;z-index: 1;}#sk-container-id-1 div.sk-parallel {display: flex;align-items: stretch;justify-content: center;background-color: white;position: relative;}#sk-container-id-1 div.sk-item::before, #sk-container-id-1 div.sk-parallel-item::before {content: \"\";position: absolute;border-left: 1px solid gray;box-sizing: border-box;top: 0;bottom: 0;left: 50%;z-index: -1;}#sk-container-id-1 div.sk-parallel-item {display: flex;flex-direction: column;z-index: 1;position: relative;background-color: white;}#sk-container-id-1 div.sk-parallel-item:first-child::after {align-self: flex-end;width: 50%;}#sk-container-id-1 div.sk-parallel-item:last-child::after {align-self: flex-start;width: 50%;}#sk-container-id-1 div.sk-parallel-item:only-child::after {width: 0;}#sk-container-id-1 div.sk-dashed-wrapped {border: 1px dashed gray;margin: 0 0.4em 0.5em 0.4em;box-sizing: border-box;padding-bottom: 0.4em;background-color: white;}#sk-container-id-1 div.sk-label label {font-family: monospace;font-weight: bold;display: inline-block;line-height: 1.2em;}#sk-container-id-1 div.sk-label-container {text-align: center;}#sk-container-id-1 div.sk-container {/* jupyter's `normalize.less` sets `[hidden] { display: none; }` but bootstrap.min.css set `[hidden] { display: none !important; }` so we also need the `!important` here to be able to override the default hidden behavior on the sphinx rendered scikit-learn.org. See: https://github.com/scikit-learn/scikit-learn/issues/21755 */display: inline-block !important;position: relative;}#sk-container-id-1 div.sk-text-repr-fallback {display: none;}</style><div id=\"sk-container-id-1\" class=\"sk-top-container\"><div class=\"sk-text-repr-fallback\"><pre>LogisticRegression(C=0.1, random_state=42)</pre><b>In a Jupyter environment, please rerun this cell to show the HTML representation or trust the notebook. <br />On GitHub, the HTML representation is unable to render, please try loading this page with nbviewer.org.</b></div><div class=\"sk-container\" hidden><div class=\"sk-item\"><div class=\"sk-estimator sk-toggleable\"><input class=\"sk-toggleable__control sk-hidden--visually\" id=\"sk-estimator-id-1\" type=\"checkbox\" checked><label for=\"sk-estimator-id-1\" class=\"sk-toggleable__label sk-toggleable__label-arrow\">LogisticRegression</label><div class=\"sk-toggleable__content\"><pre>LogisticRegression(C=0.1, random_state=42)</pre></div></div></div></div></div>"
      ],
      "text/plain": [
       "LogisticRegression(C=0.1, random_state=42)"
      ]
     },
     "execution_count": 8,
     "metadata": {},
     "output_type": "execute_result"
    }
   ],
   "source": [
    "# Entrenar el modelo con características estandarizadas\n",
    "logreg_model.fit(X_train_scaled, y_train)"
   ]
  },
  {
   "cell_type": "code",
   "execution_count": 9,
   "metadata": {},
   "outputs": [],
   "source": [
    "# Realizar predicciones en el conjunto de prueba\n",
    "y_pred_logreg = logreg_model.predict(X_test_scaled)"
   ]
  },
  {
   "cell_type": "code",
   "execution_count": 10,
   "metadata": {},
   "outputs": [
    {
     "name": "stdout",
     "output_type": "stream",
     "text": [
      "Accuracy del modelo de regresión logística: 0.9836065573770492\n",
      "Classification Report del modelo de regresión logística:\n",
      "                      precision    recall  f1-score   support\n",
      "\n",
      "      Primary Tumor       0.98      1.00      0.99       222\n",
      "Solid Tissue Normal       1.00      0.82      0.90        22\n",
      "\n",
      "           accuracy                           0.98       244\n",
      "          macro avg       0.99      0.91      0.95       244\n",
      "       weighted avg       0.98      0.98      0.98       244\n",
      "\n"
     ]
    }
   ],
   "source": [
    "# Evaluar el rendimiento del modelo\n",
    "accuracy_logreg = accuracy_score(y_test, y_pred_logreg)\n",
    "classification_rep_logreg = classification_report(y_test, y_pred_logreg)\n",
    "\n",
    "# Mostrar los resultados\n",
    "print(f'Accuracy del modelo de regresión logística: {accuracy_logreg}')\n",
    "print('Classification Report del modelo de regresión logística:\\n', classification_rep_logreg)"
   ]
  },
  {
   "cell_type": "markdown",
   "metadata": {},
   "source": [
    "Capacidad de Generalización: La precisión del 98% en el conjunto de datos de prueba es un indicador positivo de la capacidad de generalización del modelo.\n",
    "\n",
    "Sesgo de Clase: Se observan más instancias de la clase 'Primary Tumor' que de la clase 'Solid Tissue Normal' (222 frente a 22), lo que sugiere un desequilibrio en el conjunto de datos. A pesar de esto, el modelo muestra un buen rendimiento para ambas clases, indicando una gestión eficaz del desequilibrio de clases.\n",
    "\n",
    "Recall: Para la clase \"Primary Tumor\" es perfecto (1.00), lo que significa que el modelo identifica correctamente todos los casos positivos de esta clase. \n",
    "\n",
    "Sensibilidad a 'Solid Tissue Normal': La precisión para la clase 'Solid Tissue Normal' es alta del (1.00), mientras que el recall es del 82%. Esto podría indicar que el modelo podría estar perdiendo algunos casos de 'Solid Tissue Normal', pero a pesar de eso, muestra un rendimiento sólido.\n",
    "\n",
    "F1-score: Combina precisión y recall en un solo número. En general, es alto para ambas clases, indicando un buen equilibrio entre precisión y recall.\n",
    "\n",
    "Macro y Weighted Avg: Las métricas macro avg (promedio no ponderado de las métricas por clase) muestran un 99% para precisión, 91% para recall y 95% para f1-score. \n",
    "\n",
    "En cuanto a weighted avg (promedio ponderado según el soporte de cada clase), se observan valores del 98% para precisión, 98% para recall y 98% para f1-score. Ambas indican un rendimiento alto y equilibrado del modelo.\n",
    "\n",
    "En conclusión, estos resultados respaldan la solidez del modelo."
   ]
  },
  {
   "cell_type": "markdown",
   "metadata": {},
   "source": [
    "#### Se crea un segundo modelo de Regresión Logística utilizando los 100 genes como predictores obtenidos de 'geneScore' (PIK3R1)."
   ]
  },
  {
   "cell_type": "code",
   "execution_count": 16,
   "metadata": {},
   "outputs": [],
   "source": [
    "# Obtener los nombres de los 100 genes con mayor conexión obtenidos de la RED_PPI\n",
    "top_100_genescore = top_geneScore['features']\n",
    "\n",
    "# Seleccionar las variables predictoras y la variable objetivo\n",
    "X = filtro_normal_PT[top_100_genescore.tolist()]\n",
    "y = filtro_normal_PT['sample_type']\n",
    "\n",
    "# Dividir los datos en conjuntos de entrenamiento y prueba\n",
    "X_train1, X_test1, y_train1, y_test1 = train_test_split(X, y, test_size=0.2, random_state=42)\n",
    "\n",
    "# Estandarizar las características\n",
    "scaler1 = StandardScaler()\n",
    "X_train_scaled1 = scaler1.fit_transform(X_train1)\n",
    "X_test_scaled1 = scaler1.transform(X_test1)\n",
    "\n",
    "# Definir el modelo de regresión logística\n",
    "logreg_model1 = LogisticRegression(C=0.1, random_state=42)"
   ]
  },
  {
   "cell_type": "code",
   "execution_count": 17,
   "metadata": {},
   "outputs": [
    {
     "data": {
      "text/html": [
       "<style>#sk-container-id-3 {color: black;background-color: white;}#sk-container-id-3 pre{padding: 0;}#sk-container-id-3 div.sk-toggleable {background-color: white;}#sk-container-id-3 label.sk-toggleable__label {cursor: pointer;display: block;width: 100%;margin-bottom: 0;padding: 0.3em;box-sizing: border-box;text-align: center;}#sk-container-id-3 label.sk-toggleable__label-arrow:before {content: \"▸\";float: left;margin-right: 0.25em;color: #696969;}#sk-container-id-3 label.sk-toggleable__label-arrow:hover:before {color: black;}#sk-container-id-3 div.sk-estimator:hover label.sk-toggleable__label-arrow:before {color: black;}#sk-container-id-3 div.sk-toggleable__content {max-height: 0;max-width: 0;overflow: hidden;text-align: left;background-color: #f0f8ff;}#sk-container-id-3 div.sk-toggleable__content pre {margin: 0.2em;color: black;border-radius: 0.25em;background-color: #f0f8ff;}#sk-container-id-3 input.sk-toggleable__control:checked~div.sk-toggleable__content {max-height: 200px;max-width: 100%;overflow: auto;}#sk-container-id-3 input.sk-toggleable__control:checked~label.sk-toggleable__label-arrow:before {content: \"▾\";}#sk-container-id-3 div.sk-estimator input.sk-toggleable__control:checked~label.sk-toggleable__label {background-color: #d4ebff;}#sk-container-id-3 div.sk-label input.sk-toggleable__control:checked~label.sk-toggleable__label {background-color: #d4ebff;}#sk-container-id-3 input.sk-hidden--visually {border: 0;clip: rect(1px 1px 1px 1px);clip: rect(1px, 1px, 1px, 1px);height: 1px;margin: -1px;overflow: hidden;padding: 0;position: absolute;width: 1px;}#sk-container-id-3 div.sk-estimator {font-family: monospace;background-color: #f0f8ff;border: 1px dotted black;border-radius: 0.25em;box-sizing: border-box;margin-bottom: 0.5em;}#sk-container-id-3 div.sk-estimator:hover {background-color: #d4ebff;}#sk-container-id-3 div.sk-parallel-item::after {content: \"\";width: 100%;border-bottom: 1px solid gray;flex-grow: 1;}#sk-container-id-3 div.sk-label:hover label.sk-toggleable__label {background-color: #d4ebff;}#sk-container-id-3 div.sk-serial::before {content: \"\";position: absolute;border-left: 1px solid gray;box-sizing: border-box;top: 0;bottom: 0;left: 50%;z-index: 0;}#sk-container-id-3 div.sk-serial {display: flex;flex-direction: column;align-items: center;background-color: white;padding-right: 0.2em;padding-left: 0.2em;position: relative;}#sk-container-id-3 div.sk-item {position: relative;z-index: 1;}#sk-container-id-3 div.sk-parallel {display: flex;align-items: stretch;justify-content: center;background-color: white;position: relative;}#sk-container-id-3 div.sk-item::before, #sk-container-id-3 div.sk-parallel-item::before {content: \"\";position: absolute;border-left: 1px solid gray;box-sizing: border-box;top: 0;bottom: 0;left: 50%;z-index: -1;}#sk-container-id-3 div.sk-parallel-item {display: flex;flex-direction: column;z-index: 1;position: relative;background-color: white;}#sk-container-id-3 div.sk-parallel-item:first-child::after {align-self: flex-end;width: 50%;}#sk-container-id-3 div.sk-parallel-item:last-child::after {align-self: flex-start;width: 50%;}#sk-container-id-3 div.sk-parallel-item:only-child::after {width: 0;}#sk-container-id-3 div.sk-dashed-wrapped {border: 1px dashed gray;margin: 0 0.4em 0.5em 0.4em;box-sizing: border-box;padding-bottom: 0.4em;background-color: white;}#sk-container-id-3 div.sk-label label {font-family: monospace;font-weight: bold;display: inline-block;line-height: 1.2em;}#sk-container-id-3 div.sk-label-container {text-align: center;}#sk-container-id-3 div.sk-container {/* jupyter's `normalize.less` sets `[hidden] { display: none; }` but bootstrap.min.css set `[hidden] { display: none !important; }` so we also need the `!important` here to be able to override the default hidden behavior on the sphinx rendered scikit-learn.org. See: https://github.com/scikit-learn/scikit-learn/issues/21755 */display: inline-block !important;position: relative;}#sk-container-id-3 div.sk-text-repr-fallback {display: none;}</style><div id=\"sk-container-id-3\" class=\"sk-top-container\"><div class=\"sk-text-repr-fallback\"><pre>LogisticRegression(C=0.1, random_state=42)</pre><b>In a Jupyter environment, please rerun this cell to show the HTML representation or trust the notebook. <br />On GitHub, the HTML representation is unable to render, please try loading this page with nbviewer.org.</b></div><div class=\"sk-container\" hidden><div class=\"sk-item\"><div class=\"sk-estimator sk-toggleable\"><input class=\"sk-toggleable__control sk-hidden--visually\" id=\"sk-estimator-id-3\" type=\"checkbox\" checked><label for=\"sk-estimator-id-3\" class=\"sk-toggleable__label sk-toggleable__label-arrow\">LogisticRegression</label><div class=\"sk-toggleable__content\"><pre>LogisticRegression(C=0.1, random_state=42)</pre></div></div></div></div></div>"
      ],
      "text/plain": [
       "LogisticRegression(C=0.1, random_state=42)"
      ]
     },
     "execution_count": 17,
     "metadata": {},
     "output_type": "execute_result"
    }
   ],
   "source": [
    "# Entrenar el modelo con características estandarizadas\n",
    "logreg_model1.fit(X_train_scaled1, y_train1)"
   ]
  },
  {
   "cell_type": "code",
   "execution_count": 18,
   "metadata": {},
   "outputs": [],
   "source": [
    "# Realizar predicciones en el conjunto de prueba\n",
    "y_pred_logreg1 = logreg_model1.predict(X_test_scaled1)"
   ]
  },
  {
   "cell_type": "code",
   "execution_count": 19,
   "metadata": {},
   "outputs": [
    {
     "name": "stdout",
     "output_type": "stream",
     "text": [
      "Accuracy del modelo de regresión logística: 0.9877049180327869\n",
      "Classification Report del modelo de regresión logística:\n",
      "                      precision    recall  f1-score   support\n",
      "\n",
      "      Primary Tumor       1.00      0.99      0.99       222\n",
      "Solid Tissue Normal       0.91      0.95      0.93        22\n",
      "\n",
      "           accuracy                           0.99       244\n",
      "          macro avg       0.95      0.97      0.96       244\n",
      "       weighted avg       0.99      0.99      0.99       244\n",
      "\n"
     ]
    }
   ],
   "source": [
    "# Evaluar el rendimiento del modelo\n",
    "accuracy_logreg = accuracy_score(y_test1, y_pred_logreg1)\n",
    "classification_rep_logreg = classification_report(y_test1, y_pred_logreg1)\n",
    "\n",
    "# Mostrar los resultados\n",
    "print(f'Accuracy del modelo de regresión logística: {accuracy_logreg}')\n",
    "print('Classification Report del modelo de regresión logística:\\n', classification_rep_logreg)"
   ]
  },
  {
   "cell_type": "code",
   "execution_count": 20,
   "metadata": {},
   "outputs": [
    {
     "data": {
      "image/png": "[encoded data removed]",
      "text/plain": [
       "<Figure size 1200x500 with 4 Axes>"
      ]
     },
     "metadata": {},
     "output_type": "display_data"
    }
   ],
   "source": [
    "# Matriz de confusión para el primer modelo\n",
    "cm1 = confusion_matrix(y_test, y_pred_logreg)  # Asegúrate de reemplazar y_true y y_pred1 con tus datos reales y predichos\n",
    "\n",
    "# Matriz de confusión para el segundo modelo\n",
    "cm2 = confusion_matrix(y_test1, y_pred_logreg1)  # Asegúrate de reemplazar y_true y y_pred2 con tus datos reales y predichos\n",
    "\n",
    "# Crear subplots para comparar las matrices de confusión\n",
    "fig, axes = plt.subplots(1, 2, figsize=(12, 5))\n",
    "\n",
    "# Matriz de confusión para el primer modelo\n",
    "sns.heatmap(cm1, annot=True, fmt='d', cmap='Blues', ax=axes[0])\n",
    "axes[0].set_title('Confusion Matrix - Modelo 1')\n",
    "\n",
    "# Matriz de confusión para el segundo modelo\n",
    "sns.heatmap(cm2, annot=True, fmt='d', cmap='Blues', ax=axes[1])\n",
    "axes[1].set_title('Confusion Matrix - Modelo 2')\n",
    "\n",
    "plt.show()"
   ]
  },
  {
   "cell_type": "markdown",
   "metadata": {},
   "source": [
    "Se llevó a cabo el entrenamiento de un segundo modelo utilizando como predictores los 100 genes con mayor puntaje obtenidos de 'geneScore', los cuales fueron identificados a través del gen 'PIK3R1'.\n",
    "\n",
    "Accuracy: 98.77%, observándose una ligera mejora en comparación con el primer modelo.\n",
    "\n",
    "Precision: La precisión para la clase \"Primary Tumor\" sigue siendo alta (1.00), pero para la clase \"Solid Tissue Normal\" disminuye ligeramente a 91%.\n",
    "\n",
    "Recall: Se mejora para la clase \"Solid Tissue Normal\" al 95%, indicando una mejor identificación de los casos positivos para esta clase.\n",
    "\n",
    "F1-score: En general, sigue siendo alto para ambas clases, pero hay un ligero aumento para la clase \"Solid Tissue Normal\".\n",
    "\n",
    "Macro avg y Weighted avg: Permanecen altos, indicando un buen rendimiento general.\n",
    "\n",
    "En general, ambos modelos tienen un rendimiento muy bueno, con precisiones y recalls altos. El segundo modelo muestra una ligera mejora en la precisión global (accuracy) y un mejor recall para la clase \"Solid Tissue Normal\"."
   ]
  }
 ],
 "metadata": {
  "kernelspec": {
   "display_name": "Python 3",
   "language": "python",
   "name": "python3"
  },
  "language_info": {
   "codemirror_mode": {
    "name": "ipython",
    "version": 3
   },
   "file_extension": ".py",
   "mimetype": "text/x-python",
   "name": "python",
   "nbconvert_exporter": "python",
   "pygments_lexer": "ipython3",
   "version": "3.11.5"
  }
 },
 "nbformat": 4,
 "nbformat_minor": 2
}
